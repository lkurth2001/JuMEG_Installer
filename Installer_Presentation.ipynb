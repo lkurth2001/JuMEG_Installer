{
 "cells": [
  {
   "cell_type": "markdown",
   "metadata": {
    "slideshow": {
     "slide_type": "slide"
    }
   },
   "source": [
    "# Project Presentation"
   ]
  },
  {
   "cell_type": "markdown",
   "metadata": {
    "slideshow": {
     "slide_type": "slide"
    }
   },
   "source": [
    "## Contents"
   ]
  },
  {
   "cell_type": "markdown",
   "metadata": {
    "slideshow": {
     "slide_type": "subslide"
    }
   },
   "source": [
    "### JuMEG_Installer"
   ]
  },
  {
   "cell_type": "markdown",
   "metadata": {
    "slideshow": {
     "slide_type": "fragment"
    }
   },
   "source": [
    "- Intention"
   ]
  },
  {
   "cell_type": "markdown",
   "metadata": {
    "slideshow": {
     "slide_type": "fragment"
    }
   },
   "source": [
    "- Code Examples"
   ]
  },
  {
   "cell_type": "markdown",
   "metadata": {
    "slideshow": {
     "slide_type": "fragment"
    }
   },
   "source": [
    "- Problems"
   ]
  },
  {
   "cell_type": "markdown",
   "metadata": {
    "slideshow": {
     "slide_type": "subslide"
    }
   },
   "source": [
    "### File Selection GUI"
   ]
  },
  {
   "cell_type": "markdown",
   "metadata": {
    "slideshow": {
     "slide_type": "fragment"
    }
   },
   "source": [
    "- Intention "
   ]
  },
  {
   "cell_type": "markdown",
   "metadata": {
    "slideshow": {
     "slide_type": "fragment"
    }
   },
   "source": [
    "- Code Examples"
   ]
  },
  {
   "cell_type": "markdown",
   "metadata": {
    "slideshow": {
     "slide_type": "fragment"
    }
   },
   "source": [
    "- ToDo"
   ]
  },
  {
   "cell_type": "markdown",
   "metadata": {
    "slideshow": {
     "slide_type": "fragment"
    }
   },
   "source": [
    "- Problems"
   ]
  },
  {
   "cell_type": "markdown",
   "metadata": {
    "slideshow": {
     "slide_type": "slide"
    }
   },
   "source": [
    "## JuMEG_Installer"
   ]
  },
  {
   "cell_type": "markdown",
   "metadata": {
    "slideshow": {
     "slide_type": "subslide"
    }
   },
   "source": [
    "### Intention"
   ]
  },
  {
   "cell_type": "markdown",
   "metadata": {
    "slideshow": {
     "slide_type": "fragment"
    }
   },
   "source": [
    "- programme to install jumeg with mne via anaconda"
   ]
  },
  {
   "cell_type": "markdown",
   "metadata": {
    "slideshow": {
     "slide_type": "fragment"
    }
   },
   "source": [
    "- need of merging the mne and the jumeg environment files"
   ]
  },
  {
   "cell_type": "markdown",
   "metadata": {
    "slideshow": {
     "slide_type": "fragment"
    }
   },
   "source": [
    "- the mne file is preferred at the merge "
   ]
  },
  {
   "cell_type": "markdown",
   "metadata": {
    "slideshow": {
     "slide_type": "subslide"
    }
   },
   "source": [
    "### Code Examples"
   ]
  },
  {
   "cell_type": "markdown",
   "metadata": {
    "slideshow": {
     "slide_type": "subslide"
    }
   },
   "source": [
    "#### Argument Parser"
   ]
  },
  {
   "cell_type": "code",
   "execution_count": 1,
   "metadata": {
    "slideshow": {
     "slide_type": "-"
    }
   },
   "outputs": [],
   "source": [
    "def get_args(argv,parser=None,defaults=None,version=None):\n",
    "   \"\"\"\n",
    "   function to parse the given parameters from the shell\n",
    "   \"\"\"\n",
    "   description=\"jumeg_installer start parameters\"\n",
    "   h_cuda=\"Downloads jumeg file with cuda support\"\n",
    "   h_verbose=\"Makes the installation more verbose\"\n",
    "   if not parser:\n",
    "      parser = argparse.ArgumentParser(description=description)\n",
    "   else:\n",
    "      parser.description=description\n",
    "   if not defaults:\n",
    "      defaults={\n",
    "         \"verbose\":False,\n",
    "         }\n",
    "   if len(argv)<2:\n",
    "       parser.print_help()\n",
    "       sys.exit(-1)\n",
    "   parser.add_argument(\"-v,--verbose\",action=\"store_true\",help=h_verbose,default=defaults.get(\"verbose\"))\n",
    "   opt=parser.parse_args()\n",
    "   return opt"
   ]
  },
  {
   "cell_type": "markdown",
   "metadata": {
    "slideshow": {
     "slide_type": "subslide"
    }
   },
   "source": [
    "#### Loading yaml files"
   ]
  },
  {
   "cell_type": "code",
   "execution_count": 3,
   "metadata": {
    "slideshow": {
     "slide_type": "-"
    }
   },
   "outputs": [],
   "source": [
    "def load_jumeg(opt):\n",
    "   \"\"\"\n",
    "   function to load the jumeg environment file as a python dict\n",
    "   \"\"\"\n",
    "   dict_jumeg=dict()\n",
    "   if opt.fjumeg:\n",
    "      fname = opt.fjumeg\n",
    "   elif opt.cuda:\n",
    "      subprocess.run([\"curl\",\"--remote-name\",remote_name.get(\"jumeg_cuda\")])\n",
    "      fname = os.path.basename( remote_name.get(\"jumeg_cuda\") )\n",
    "   else:\n",
    "      subprocess.run([\"curl\",\"--remote-name\",remote_name.get(\"jumeg\")])\n",
    "      fname = os.path.basename( remote_name.get(\"jumeg\") )\n",
    "\n",
    "   with open(fname,\"r\") as f:\n",
    "        dict_jumeg = yaml.safe_load(f)\n",
    "   return dict_jumeg"
   ]
  },
  {
   "cell_type": "markdown",
   "metadata": {
    "slideshow": {
     "slide_type": "subslide"
    }
   },
   "source": [
    "#### Merging"
   ]
  },
  {
   "cell_type": "code",
   "execution_count": 4,
   "metadata": {
    "slideshow": {
     "slide_type": "-"
    }
   },
   "outputs": [],
   "source": [
    "def update_and_merge(din, u, depth=-1,do_copy=True):\n",
    "       \"\"\" update and merge dict parameter overwrite defaults\n",
    "       ----------\n",
    "       dict with defaults parameter\n",
    "       dict with parameter to merge or update\n",
    "       depth: recusive level <-1>\n",
    "       -------\n",
    "       dict with merged and updated parameters\n",
    "       \"\"\"\n",
    "       if do_copy:\n",
    "          d = deepcopy(din)\n",
    "       else:\n",
    "          d = din \n",
    "       for k, v in u.items():\n",
    "           if isinstance(v, collections.abc.Mapping) and not depth == 0:\n",
    "              r = update_and_merge(d.get(k, {}), v, depth=max(depth - 1, -1))\n",
    "              d[k] = r\n",
    "           elif isinstance(d, collections.abc.Mapping):\n",
    "              d[k] = u[k]\n",
    "           else:\n",
    "              d = {k: u[k]}\n",
    "       return d "
   ]
  },
  {
   "cell_type": "markdown",
   "metadata": {
    "slideshow": {
     "slide_type": "subslide"
    }
   },
   "source": [
    "#### Installation or Updating"
   ]
  },
  {
   "cell_type": "code",
   "execution_count": 6,
   "metadata": {
    "slideshow": {
     "slide_type": "-"
    }
   },
   "outputs": [],
   "source": [
    "def install(opt):\n",
    "    \"\"\"\n",
    "    function to install the new conda environment\n",
    "    \"\"\"\n",
    "    if opt.install:\n",
    "        fname=opt.name + \".yaml\"\n",
    "        if check_envs(opt):\n",
    "            subprocess.run([\"conda\",\"deactivate\"],stdout=DEVNULL)\n",
    "            subprocess.run([\"conda\",\"env\",\"update\",\"-n\",opt.name,\"--file\",fname])\n",
    "            subprocess.run([\"conda\",\"activate\",opt.name],stdout=DEVNULL)\n",
    "        else:\n",
    "            subprocess.run([\"conda\",\"env\",\"create\",\"-f\",fname])\n",
    "            subprocess.run([\"conda\",\"activate\",opt.name],stdout=DEVNULL)"
   ]
  },
  {
   "cell_type": "markdown",
   "metadata": {
    "slideshow": {
     "slide_type": "subslide"
    }
   },
   "source": [
    "### Problems"
   ]
  },
  {
   "cell_type": "markdown",
   "metadata": {
    "slideshow": {
     "slide_type": "fragment"
    }
   },
   "source": [
    "- Working with subprocess outputs"
   ]
  },
  {
   "cell_type": "markdown",
   "metadata": {
    "slideshow": {
     "slide_type": "fragment"
    }
   },
   "source": [
    "- Installation"
   ]
  },
  {
   "cell_type": "markdown",
   "metadata": {
    "slideshow": {
     "slide_type": "slide"
    }
   },
   "source": [
    "## File Selection GUI"
   ]
  },
  {
   "cell_type": "markdown",
   "metadata": {
    "slideshow": {
     "slide_type": "subslide"
    }
   },
   "source": [
    "### Intention"
   ]
  },
  {
   "cell_type": "markdown",
   "metadata": {
    "slideshow": {
     "slide_type": "fragment"
    }
   },
   "source": [
    "- programme to select files and config parameters to send it to another programme"
   ]
  },
  {
   "cell_type": "markdown",
   "metadata": {
    "slideshow": {
     "slide_type": "fragment"
    }
   },
   "source": [
    "- Combination of ListCtrl and a TreeCtrl"
   ]
  },
  {
   "cell_type": "markdown",
   "metadata": {
    "slideshow": {
     "slide_type": "fragment"
    }
   },
   "source": [
    "- usage of an I/O class"
   ]
  },
  {
   "cell_type": "markdown",
   "metadata": {
    "slideshow": {
     "slide_type": "fragment"
    }
   },
   "source": [
    "- usage of pubsub for the communication between the Controls"
   ]
  },
  {
   "cell_type": "markdown",
   "metadata": {
    "slideshow": {
     "slide_type": "subslide"
    }
   },
   "source": [
    "### Code Examples"
   ]
  },
  {
   "cell_type": "markdown",
   "metadata": {
    "slideshow": {
     "slide_type": "subslide"
    }
   },
   "source": [
    "#### Input method for the ListBox"
   ]
  },
  {
   "cell_type": "code",
   "execution_count": 10,
   "metadata": {
    "slideshow": {
     "slide_type": "-"
    }
   },
   "outputs": [],
   "source": [
    "   def _read_lines(self, f):\n",
    "      self._file_list=list()\n",
    "      for line in f:\n",
    "         line = f.readline().strip()\n",
    "         if line.startswith(\"#\"): continue\n",
    "         self._file_list.append(line)\n",
    "      return self._file_list\n",
    "         \n",
    "   def read_file(self,fname):\n",
    "      self.clear()\n",
    "      if fname:\n",
    "         if os.path.exists(fname):\n",
    "            with open(fname,\"r\") as f:\n",
    "                 self._read_lines(f)\n",
    "      pub.sendMessage(self._name,data=self.get_basenames() ) \n",
    "      return self._file_list"
   ]
  },
  {
   "cell_type": "markdown",
   "metadata": {
    "slideshow": {
     "slide_type": "subslide"
    }
   },
   "source": [
    "#### Base class"
   ]
  },
  {
   "cell_type": "code",
   "execution_count": 12,
   "metadata": {
    "slideshow": {
     "slide_type": "-"
    }
   },
   "outputs": [],
   "source": [
    "import wx\n",
    "class _BASE(wx.Panel):\n",
    "   def __init__(self,parent,**kwargs):\n",
    "      super().__init__(parent,style=wx.BORDER_SUNKEN)\n",
    "      self.SetBackgroundColour( kwargs.get(\"bg\",\"grey70\") ) \n",
    "      self._init(**kwargs)\n",
    "      self._wx_init(**kwargs)\n",
    "      self._ApplyLayout()\n",
    "      self._ApplyFinalLayout()\n",
    "      self._init_pubsub()\n",
    "   \n",
    "   def _init(self,**kwargs):\n",
    "       pass   \n",
    "   \n",
    "   def _wx_init(self,**kwargs):\n",
    "       pass\n",
    "      \n",
    "   def ClickOnCtrl(self,evt):\n",
    "       evt.Skip()\n",
    "       \n",
    "   def _ApplyLayout(self):\n",
    "       pass"
   ]
  },
  {
   "cell_type": "markdown",
   "metadata": {
    "slideshow": {
     "slide_type": "subslide"
    }
   },
   "source": [
    "#### init of ListCtrl"
   ]
  },
  {
   "cell_type": "code",
   "execution_count": 13,
   "metadata": {
    "slideshow": {
     "slide_type": "-"
    }
   },
   "outputs": [],
   "source": [
    "   def _wx_init(self,**kwargs):\n",
    "     \n",
    "     #-- file selection counter\n",
    "      self._FSC = wx.StaticText(self, wx.ID_ANY,style=wx.ALIGN_RIGHT)\n",
    "      self._FSC.SetForegroundColour('red')\n",
    "     #-- FileListBox\n",
    "      self._FLB = wx.ListBox(self,wx.ID_ANY,choices=[],style=wx.LB_MULTIPLE) \n",
    "      self._FLB.SetFont(wx.Font(12,75,90,90,False,wx.EmptyString))\n",
    "      self._FLB.Bind(wx.EVT_MOTION,self.OnMouseMove)\n",
    "      \n",
    "      self.Bind(wx.EVT_LISTBOX,self.ClickOnSelect) \n",
    "      self._update_file_selection_counter()"
   ]
  },
  {
   "cell_type": "markdown",
   "metadata": {
    "slideshow": {
     "slide_type": "subslide"
    }
   },
   "source": [
    "#### Click on Button"
   ]
  },
  {
   "cell_type": "code",
   "execution_count": 14,
   "metadata": {
    "slideshow": {
     "slide_type": "-"
    }
   },
   "outputs": [],
   "source": [
    "    def ClickOnButton(self,data=None):\n",
    "        if data.upper().endswith(\"APPLY\"):\n",
    "           if self._FSB:\n",
    "              if self._ConfigCtrl._CFG._CfgTreeCtrl:\n",
    "                 if self._FSB.GetSelectedFiles():\n",
    "                    files=self._FSB.GetSelectedFiles()\n",
    "                    self._FSB._FileReader.write_tmp_files(fdata=files,cdata=self._ConfigCtrl._CFG._CfgTreeCtrl.GetData())\n",
    "                 else:\n",
    "                    self.ApplyException(\"You need to select a ListBox item\")\n",
    "              else:\n",
    "                 self.ApplyException(\"You need to select a Config file\")\n",
    "                    \n",
    "        if data.upper().endswith(\"DE/Select\"):\n",
    "           self._FSB.DeSelectFiles()\n",
    "        \n",
    "        if data.upper().endswith(\"INFO\"):\n",
    "           logger.info(self._FSB.GetSelectedFiles())"
   ]
  },
  {
   "cell_type": "markdown",
   "metadata": {
    "slideshow": {
     "slide_type": "subslide"
    }
   },
   "source": [
    "#### Generating temporary files"
   ]
  },
  {
   "cell_type": "code",
   "execution_count": 15,
   "metadata": {
    "slideshow": {
     "slide_type": "-"
    }
   },
   "outputs": [],
   "source": [
    "   def write_tmp_files(self,fdata=list(),cdata=dict()):\n",
    "      CFG=jumeg_base_config.JuMEG_CONFIG()\n",
    "      user=getpass.getuser()\n",
    "      count=1\n",
    "      num=str(count).zfill(3)\n",
    "      ffname=\"test_file_\"+user+\"_\"+num+\".txt\"\n",
    "      cfname=\"test_config_\"+user+\"_\"+num+\".yaml\"\n",
    "      while os.path.exists(ffname) or os.path.exists(cfname):\n",
    "         count+=1\n",
    "         num=str(count).zfill(3)\n",
    "         ffname=\"test_file_\"+user+\"_\"+num+\".txt\"\n",
    "         cfname=\"test_config_\"+user+\"_\"+num+\".yaml\"\n",
    "      with open(ffname,\"w\") as f:\n",
    "         f.writelines(\"%s\\n\" % line for line in fdata)\n",
    "      CFG.save_cfg(fname=cfname,data=cdata)\n",
    "      print(ffname)\n",
    "      print(cfname)"
   ]
  },
  {
   "cell_type": "markdown",
   "metadata": {
    "slideshow": {
     "slide_type": "subslide"
    }
   },
   "source": [
    "### ToDo"
   ]
  },
  {
   "cell_type": "markdown",
   "metadata": {
    "slideshow": {
     "slide_type": "fragment"
    }
   },
   "source": [
    "- add docstrings"
   ]
  },
  {
   "cell_type": "markdown",
   "metadata": {
    "slideshow": {
     "slide_type": "fragment"
    }
   },
   "source": [
    "- eliminate dead code and debug code"
   ]
  },
  {
   "cell_type": "markdown",
   "metadata": {
    "slideshow": {
     "slide_type": "fragment"
    }
   },
   "source": [
    "- testing and some bugfixes"
   ]
  },
  {
   "cell_type": "markdown",
   "metadata": {
    "slideshow": {
     "slide_type": "subslide"
    }
   },
   "source": [
    "### Problems"
   ]
  },
  {
   "cell_type": "markdown",
   "metadata": {
    "slideshow": {
     "slide_type": "fragment"
    }
   },
   "source": [
    "- structuring the code"
   ]
  },
  {
   "cell_type": "markdown",
   "metadata": {
    "slideshow": {
     "slide_type": "fragment"
    }
   },
   "source": [
    "- working with pubsub"
   ]
  },
  {
   "cell_type": "markdown",
   "metadata": {
    "slideshow": {
     "slide_type": "fragment"
    }
   },
   "source": [
    "- Boxing the controls"
   ]
  }
 ],
 "metadata": {
  "celltoolbar": "Slideshow",
  "kernelspec": {
   "display_name": "Python 3",
   "language": "python",
   "name": "python3"
  },
  "language_info": {
   "codemirror_mode": {
    "name": "ipython",
    "version": 3
   },
   "file_extension": ".py",
   "mimetype": "text/x-python",
   "name": "python",
   "nbconvert_exporter": "python",
   "pygments_lexer": "ipython3",
   "version": "3.7.6"
  }
 },
 "nbformat": 4,
 "nbformat_minor": 4
}
